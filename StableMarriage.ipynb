{
  "cells": [
    {
      "cell_type": "markdown",
      "metadata": {
        "id": "view-in-github",
        "colab_type": "text"
      },
      "source": [
        "<a href=\"https://colab.research.google.com/github/leyviya/stable-matching-problem/blob/main/StableMarriage.ipynb\" target=\"_parent\"><img src=\"https://colab.research.google.com/assets/colab-badge.svg\" alt=\"Open In Colab\"/></a>"
      ]
    },
    {
      "cell_type": "markdown",
      "source": [
        "# ***Stable Matching / Marriage Problem Application Demo - Python ***\n",
        "**Leyla Abdullayeva - 1904010038 - Graph Theory Applications**"
      ],
      "metadata": {
        "id": "pTepzw2_d5nU"
      }
    },
    {
      "cell_type": "code",
      "execution_count": null,
      "metadata": {
        "id": "CPeYE3Y3isH3"
      },
      "outputs": [],
      "source": [
        "from StableMarriage import MarriageModel"
      ]
    },
    {
      "cell_type": "markdown",
      "metadata": {
        "id": "7HEX2ZjIisH5"
      },
      "source": [
        "### Example 1 - Örnek 1:\n",
        "\n",
        "- Sample preference initialization.\n",
        "\n",
        "`guyprefers` is the preference profile of boys and `galprefers` is the preference profile of girls. In each dictionary, the keys denote the person and the values denote the strict preference list of the person the key corresponds to.\n",
        "\n",
        "This preference profile was pulled from [Rosetta Code](http://rosettacode.org/wiki/Stable_marriage_problem#Python).\n",
        "\n",
        "- Örnek tercih başlatma.\n",
        "\n",
        "`guyprefers` erkeklerin tercih profili ve `galprefers` kızların tercih profilidir. Her sözlükte, anahtarlar kişiyi, değerler ise anahtarın karşılık geldiği kişinin kesin tercih listesini gösterir.\n",
        "\n",
        "Bu tercih profili [Rosetta Code](http://rosettacode.org/wiki/Stable_marriage_problem#Python)'dan alınmıştır.*"
      ]
    },
    {
      "cell_type": "code",
      "execution_count": null,
      "metadata": {
        "id": "KEOQ1IVsisH6"
      },
      "outputs": [],
      "source": [
        "guyprefers = {\n",
        "    'abe':  ['abi', 'eve', 'cath', 'ivy', 'jan', 'dee', 'fay', 'bea', 'hope', 'gay'],\n",
        "    'bob':  ['cath', 'hope', 'abi', 'dee', 'eve', 'fay', 'bea', 'jan', 'ivy', 'gay'],\n",
        "    'col':  ['hope', 'eve', 'abi', 'dee', 'bea', 'fay', 'ivy', 'gay', 'cath', 'jan'],\n",
        "    'dan':  ['ivy', 'fay', 'dee', 'gay', 'hope', 'eve', 'jan', 'bea', 'cath', 'abi'],\n",
        "    'ed':   ['jan', 'dee', 'bea', 'cath', 'fay', 'eve', 'abi', 'ivy', 'hope', 'gay'],\n",
        "    'fred': ['bea', 'abi', 'dee', 'gay', 'eve', 'ivy', 'cath', 'jan', 'hope', 'fay'],\n",
        "    'gav':  ['gay', 'eve', 'ivy', 'bea', 'cath', 'abi', 'dee', 'hope', 'jan', 'fay'],\n",
        "    'hal':  ['abi', 'eve', 'hope', 'fay', 'ivy', 'cath', 'jan', 'bea', 'gay', 'dee'],\n",
        "    'ian':  ['hope', 'cath', 'dee', 'gay', 'bea', 'abi', 'fay', 'ivy', 'jan', 'eve'],\n",
        "    'jon':  ['abi', 'fay', 'jan', 'gay', 'eve', 'bea', 'dee', 'cath', 'ivy', 'hope']\n",
        "}\n",
        "\n",
        "galprefers = {\n",
        "    'abi':  ['bob', 'fred', 'jon', 'gav', 'ian', 'abe', 'dan', 'ed', 'col', 'hal'],\n",
        "    'bea':  ['bob', 'abe', 'col', 'fred', 'gav', 'dan', 'ian', 'ed', 'jon', 'hal'],\n",
        "    'cath': ['fred', 'bob', 'ed', 'gav', 'hal', 'col', 'ian', 'abe', 'dan', 'jon'],\n",
        "    'dee':  ['fred', 'jon', 'col', 'abe', 'ian', 'hal', 'gav', 'dan', 'bob', 'ed'],\n",
        "    'eve':  ['jon', 'hal', 'fred', 'dan', 'abe', 'gav', 'col', 'ed', 'ian', 'bob'],\n",
        "    'fay':  ['bob', 'abe', 'ed', 'ian', 'jon', 'dan', 'fred', 'gav', 'col', 'hal'],\n",
        "    'gay':  ['jon', 'gav', 'hal', 'fred', 'bob', 'abe', 'col', 'ed', 'dan', 'ian'],\n",
        "    'hope': ['gav', 'jon', 'bob', 'abe', 'ian', 'dan', 'hal', 'ed', 'col', 'fred'],\n",
        "    'ivy':  ['ian', 'col', 'hal', 'gav', 'fred', 'bob', 'abe', 'ed', 'jon', 'dan'],\n",
        "    'jan':  ['ed', 'hal', 'gav', 'abe', 'bob', 'jon', 'col', 'ian', 'fred', 'dan']\n",
        "}"
      ]
    },
    {
      "cell_type": "code",
      "execution_count": null,
      "metadata": {
        "scrolled": true,
        "colab": {
          "base_uri": "https://localhost:8080/"
        },
        "id": "WpL4lqH3isH8",
        "outputId": "f525b478-aaa5-4ebd-c5b1-c39c455f9f3f"
      },
      "outputs": [
        {
          "output_type": "execute_result",
          "data": {
            "text/plain": [
              "{'dan': 'fay',\n",
              " 'col': 'dee',\n",
              " 'abe': 'ivy',\n",
              " 'jon': 'abi',\n",
              " 'bob': 'cath',\n",
              " 'hal': 'eve',\n",
              " 'ian': 'hope',\n",
              " 'ed': 'jan',\n",
              " 'fred': 'bea',\n",
              " 'gav': 'gay'}"
            ]
          },
          "metadata": {},
          "execution_count": 6
        }
      ],
      "source": [
        "model = MarriageModel(guyprefers, galprefers)\n",
        "mu = model.Deferred_Acceptance()\n",
        "mu"
      ]
    },
    {
      "cell_type": "markdown",
      "metadata": {
        "id": "az4cciJaisH9"
      },
      "source": [
        "- We can also print the number of steps it took to reach a final stable matching by setting `print_rounds=True`.\n",
        "- Ayrıca, \"print_rounds=True\" ayarını yaparak nihai bir kararlı eşleşmeye ulaşmak için atılan adımların sayısını da yazdırabiliriz."
      ]
    },
    {
      "cell_type": "code",
      "execution_count": null,
      "metadata": {
        "colab": {
          "base_uri": "https://localhost:8080/"
        },
        "id": "2ggeKoUvisH9",
        "outputId": "d58d496c-b622-4390-ee2d-11b07e3fc0c7"
      },
      "outputs": [
        {
          "output_type": "stream",
          "name": "stdout",
          "text": [
            "Success. The Gale-Shapley algorithm ran 5 rounds.\n"
          ]
        }
      ],
      "source": [
        "model.Deferred_Acceptance(print_rounds=True);"
      ]
    },
    {
      "cell_type": "markdown",
      "metadata": {
        "id": "sqXBy3iIisH-"
      },
      "source": [
        "- We can also print the tentative matchings of each step by setting `print_tentative_matchings=True`.\n",
        "- \"print_tentative_matchings=True\" ayarını yaparak her adımın geçici eşleştirmelerini de yazdırabiliriz."
      ]
    },
    {
      "cell_type": "code",
      "execution_count": null,
      "metadata": {
        "colab": {
          "base_uri": "https://localhost:8080/"
        },
        "id": "lGI5owBcisH-",
        "outputId": "f453819e-29ea-41d7-ff32-29e960c03404"
      },
      "outputs": [
        {
          "output_type": "stream",
          "name": "stdout",
          "text": [
            "Tentative matching after Round 1:\n",
            "{'jon': 'abi', 'bob': 'cath', 'ian': 'hope', 'dan': 'ivy', 'ed': 'jan', 'fred': 'bea', 'gav': 'gay'}\n",
            "Tentative matching after Round 2:\n",
            "{'hal': 'eve', 'jon': 'abi', 'bob': 'cath', 'ian': 'hope', 'dan': 'ivy', 'ed': 'jan', 'fred': 'bea', 'gav': 'gay'}\n",
            "Tentative matching after Round 3:\n",
            "{'jon': 'abi', 'bob': 'cath', 'hal': 'eve', 'ian': 'hope', 'dan': 'ivy', 'ed': 'jan', 'fred': 'bea', 'gav': 'gay'}\n",
            "Tentative matching after Round 4:\n",
            "{'col': 'dee', 'abe': 'ivy', 'jon': 'abi', 'bob': 'cath', 'hal': 'eve', 'ian': 'hope', 'ed': 'jan', 'fred': 'bea', 'gav': 'gay'}\n"
          ]
        }
      ],
      "source": [
        "model.Deferred_Acceptance(print_tentative_matchings=True);"
      ]
    },
    {
      "cell_type": "markdown",
      "metadata": {
        "id": "A1cnK9s2isH-"
      },
      "source": [
        "- The algorithm can handle unmatched matches too, i.e. it can handle examples where someone will have to end up unmatched in a stable matching.\n",
        "- Algoritma eşleşmeyen eşleşmeleri de işleyebilir, yani kararlı bir eşleşmede birisinin eşleşmemesi gereken örnekleri işleyebilir."
      ]
    },
    {
      "cell_type": "code",
      "execution_count": null,
      "metadata": {
        "colab": {
          "base_uri": "https://localhost:8080/"
        },
        "id": "mRVLxg74isH-",
        "outputId": "04da9524-c0eb-4b35-9cd4-63a92e792a93"
      },
      "outputs": [
        {
          "output_type": "execute_result",
          "data": {
            "text/plain": [
              "{'abi': None,\n",
              " 'bob': 'cath',\n",
              " 'fred': 'bea',\n",
              " 'ed': 'jan',\n",
              " 'hal': 'eve',\n",
              " 'ian': 'hope',\n",
              " 'gav': 'gay',\n",
              " 'col': 'dee',\n",
              " 'jon': 'fay',\n",
              " 'abe': 'ivy',\n",
              " 'dan': None}"
            ]
          },
          "metadata": {},
          "execution_count": 9
        }
      ],
      "source": [
        "galprefers['abi'] = ['bob', 'fred']\n",
        "\n",
        "model = MarriageModel(guyprefers, galprefers)\n",
        "mu_2 = model.Deferred_Acceptance()\n",
        "mu_2"
      ]
    },
    {
      "cell_type": "markdown",
      "metadata": {
        "id": "w1zw4By6isH_"
      },
      "source": [
        "- In the above example, Abi was matched to her 3rd best choice, Jon in the stable matching `mu` but if she somehow decides that she only want either Bob or Fred (her top 2 choices), she will end up unmatched.\n",
        "- Yukarıdaki örnekte Abi, 3. en iyi seçimi olan Jon ile \"mu\" eşleştirmesinde eşleştirildi, ancak bir şekilde yalnızca Bob'u veya Fred'i istediğine karar verirse (en iyi 2 seçimi), sonunda eşsiz olacak."
      ]
    },
    {
      "cell_type": "markdown",
      "metadata": {
        "id": "OzOW4h5eisH_"
      },
      "source": [
        "### Example 2 - Örnek 2:\n",
        "\n",
        " - *Two-sided matching: A study in game-theoretic modeling and analysis* (Roth and Sotomayor, 1990).\n",
        "\n",
        "Similar to Example 1, `guyprefers` is the preference profile of guys and `galprefers` is the preference profile of gals. Each key denotes a person and each value denotes the preference profile of the person corresponding to its key.\n",
        "- *İki taraflı eşleştirme: Oyun-kuramsal modelleme ve analiz üzerine bir çalışma* (Roth ve Sotomayor, 1990).\n",
        "\n",
        "Örnek 1'e benzer şekilde, \"guyprefers\" erkeklerin tercih profilidir ve \"galprefers\" kızların tercih profilidir. Her tuş bir kişiyi, her değer ise kişinin anahtarına karşılık gelen tercih profilini ifade eder."
      ]
    },
    {
      "cell_type": "code",
      "execution_count": null,
      "metadata": {
        "id": "5BkrDnNOisH_"
      },
      "outputs": [],
      "source": [
        "guyprefers = {\n",
        "    'abe': ['abi', 'bea', 'cat', 'dee'],\n",
        "    'bob': ['bea', 'abi', 'dee', 'cat'],\n",
        "    'col': ['cat', 'dee', 'abi', 'bea'],\n",
        "    'dan': ['dee', 'cat', 'bea', 'abi']\n",
        "}\n",
        "\n",
        "galprefers = {\n",
        "    'abi': ['dan', 'col', 'bob', 'abe'],\n",
        "    'bea': ['col', 'dan', 'abe', 'bob'],\n",
        "    'cat': ['bob', 'abe', 'dan', 'col'],\n",
        "    'dee': ['abe', 'bob', 'col', 'dan']\n",
        "}"
      ]
    },
    {
      "cell_type": "markdown",
      "metadata": {
        "id": "aFcoH4ubisIA"
      },
      "source": [
        "- `MarriageModel()` is a class that has three main methods: `Deferred_Acceptance()`, `is_stable()` and `random_path_to_stability()`.\n",
        "\n",
        "An instance of `MarriageModel()` must be initialized with preference profiles. `Deferred_Acceptance()` treats the first preference profile as that of the proposing side and the second as that of the receiving side.\n",
        "\n",
        "For preference profiles `(galprefers, guyprefers)` (where gals propose and guys hold on to proposals), the outcome of the Gale-Shapley algorithm is `mu`:\n",
        "\n",
        "- 'MarriageModel()', üç ana yöntemi olan bir sınıftır: \"Deferred_Acceptance()\", \"is_stable()\" ve \"random_path_to_stability()\".\n",
        "\n",
        "Bir 'MarriageModel()' örneği, tercih profilleriyle başlatılmalıdır. \"Deferred_Acceptance()\", birinci tercih profilini teklifte bulunan taraf olarak, ikincisini ise alan taraf olarak ele alır.\n",
        "\n",
        "`(galprefers, guyprefers)` (kızlar teklif eder ve erkekler teklifleri tutar) tercih profilleri için, Gale-Shapley algoritmasının sonucu `mu` olur:"
      ]
    },
    {
      "cell_type": "code",
      "execution_count": null,
      "metadata": {
        "colab": {
          "base_uri": "https://localhost:8080/"
        },
        "id": "CAZKmiKbisIA",
        "outputId": "dd67b5b3-d91e-477f-8e4e-ce27a8df13b3"
      },
      "outputs": [
        {
          "output_type": "execute_result",
          "data": {
            "text/plain": [
              "{'abi': 'dan', 'bea': 'col', 'cat': 'bob', 'dee': 'abe'}"
            ]
          },
          "metadata": {},
          "execution_count": 11
        }
      ],
      "source": [
        "model2 = MarriageModel(galprefers, guyprefers)\n",
        "mu = model2.Deferred_Acceptance()\n",
        "mu"
      ]
    },
    {
      "cell_type": "markdown",
      "metadata": {
        "id": "06XzqyKMisIA"
      },
      "source": [
        "- We can check if `mu` is stable or not with respect to the preference profiles at initialization.\n",
        "- Başlatma sırasında tercih profillerine göre `mu` - nun kararlı olup olmadığını kontrol edebiliriz."
      ]
    },
    {
      "cell_type": "code",
      "execution_count": null,
      "metadata": {
        "colab": {
          "base_uri": "https://localhost:8080/"
        },
        "id": "KyYIvnfkisIB",
        "outputId": "0dea33d5-ce54-4b85-c6cc-264b18efc46c"
      },
      "outputs": [
        {
          "output_type": "execute_result",
          "data": {
            "text/plain": [
              "True"
            ]
          },
          "metadata": {},
          "execution_count": 12
        }
      ],
      "source": [
        "model2.is_stable(mu)"
      ]
    },
    {
      "cell_type": "markdown",
      "metadata": {
        "id": "npOnBjpjisIB"
      },
      "source": [
        " - However, if a matching is not stable, `is_stable()` throws out a blocking pair as follows:\n",
        " - Ancak, bir eşleştirme kararlı değilse, \"is_stable()\" aşağıdaki gibi bir engelleme çifti atar:"
      ]
    },
    {
      "cell_type": "code",
      "execution_count": null,
      "metadata": {
        "id": "wqPkKbPwisIB",
        "outputId": "bbb6dea9-7144-431a-d4e0-21091eff3e09",
        "colab": {
          "base_uri": "https://localhost:8080/"
        }
      },
      "outputs": [
        {
          "output_type": "execute_result",
          "data": {
            "text/plain": [
              "('bea', 'dan')"
            ]
          },
          "metadata": {},
          "execution_count": 14
        }
      ],
      "source": [
        "unstable_matching = {'abi':'dan', 'bea':'bob', 'cat':'abe', 'dee':'col'}\n",
        "\n",
        "blocking_pair = model2.is_stable(unstable_matching)\n",
        "blocking_pair"
      ]
    },
    {
      "cell_type": "markdown",
      "metadata": {
        "id": "Tu4Bd6OIisIB"
      },
      "source": [
        "- We can use `random_path_to_stability()` to find a random stable matching (stable with respect to the preference profiles at initialization).\n",
        "- Rastgele bir kararlı eşleşme bulmak için `random_path_to_stability()`yi kullanabiliriz (başlangıçtaki tercih profillerine göre kararlı)."
      ]
    },
    {
      "cell_type": "code",
      "execution_count": null,
      "metadata": {
        "colab": {
          "base_uri": "https://localhost:8080/"
        },
        "id": "9QwtcGYZisIC",
        "outputId": "d48ca589-7519-4055-ae18-de81c50554dd"
      },
      "outputs": [
        {
          "output_type": "execute_result",
          "data": {
            "text/plain": [
              "{'abi': 'abe', 'bea': 'bob', 'cat': 'dan', 'dee': 'col'}"
            ]
          },
          "metadata": {},
          "execution_count": 15
        }
      ],
      "source": [
        "some_stable_matching = model2.random_path_to_stability()\n",
        "some_stable_matching"
      ]
    },
    {
      "cell_type": "markdown",
      "metadata": {
        "id": "m7VhKL38isID"
      },
      "source": [
        "- We can also print out the number of iterations it took to reach a stable outcome.\n",
        "- Kararlı bir sonuca ulaşmak için gereken yineleme sayısını da yazdırabiliriz."
      ]
    },
    {
      "cell_type": "code",
      "execution_count": null,
      "metadata": {
        "colab": {
          "base_uri": "https://localhost:8080/"
        },
        "id": "Hk6rXwLmisID",
        "outputId": "d7036a49-0c8d-40ef-d9db-8686e176a59d"
      },
      "outputs": [
        {
          "output_type": "stream",
          "name": "stdout",
          "text": [
            "The algorithm ran 48 rounds to reach the following stable matching:\n",
            "{'bea': 'col', 'abi': 'dan', 'dee': 'bob', 'cat': 'abe'}\n"
          ]
        },
        {
          "output_type": "execute_result",
          "data": {
            "text/plain": [
              "{'abi': 'dan', 'bea': 'col', 'cat': 'abe', 'dee': 'bob'}"
            ]
          },
          "metadata": {},
          "execution_count": 16
        }
      ],
      "source": [
        "another_stable_matching = model2.random_path_to_stability(print_rounds=True)\n",
        "another_stable_matching"
      ]
    },
    {
      "cell_type": "markdown",
      "metadata": {
        "id": "sqX6MS4PisIE"
      },
      "source": [
        "- We can also specify the number of paths to stability. For example, if `number_of_matchings=100`, 100 stable matchings will be found. The outcome will be a 2-tuple where the first element is a list of unique stable matchings and the second element is a list of frequencies where the *i*th frequency corresponds to the *i*th unique stable matching.\n",
        "- Kararlılığa giden yolların sayısını da belirtebiliriz. Örneğin, `number_of_matchings=100` ise, 100 kararlı eşleşme bulunur. Sonuç, ilk öğenin benzersiz kararlı eşleşmelerin bir listesi olduğu ve ikinci öğenin *i*th frekansının *i*th benzersiz kararlı eşleşmeye karşılık geldiği frekansların bir listesi olduğu 2-tuple olacaktır."
      ]
    },
    {
      "cell_type": "code",
      "execution_count": null,
      "metadata": {
        "colab": {
          "base_uri": "https://localhost:8080/"
        },
        "id": "gtqdVbCoisIE",
        "outputId": "6be910f0-417d-4f44-d483-459f055ee54b"
      },
      "outputs": [
        {
          "output_type": "execute_result",
          "data": {
            "text/plain": [
              "([{'abi': 'abe', 'bea': 'bob', 'cat': 'col', 'dee': 'dan'},\n",
              "  {'abi': 'abe', 'bea': 'bob', 'cat': 'dan', 'dee': 'col'},\n",
              "  {'abi': 'bob', 'bea': 'abe', 'cat': 'col', 'dee': 'dan'},\n",
              "  {'abi': 'bob', 'bea': 'abe', 'cat': 'dan', 'dee': 'col'},\n",
              "  {'abi': 'bob', 'bea': 'dan', 'cat': 'abe', 'dee': 'col'},\n",
              "  {'abi': 'col', 'bea': 'abe', 'cat': 'dan', 'dee': 'bob'},\n",
              "  {'abi': 'col', 'bea': 'dan', 'cat': 'abe', 'dee': 'bob'},\n",
              "  {'abi': 'col', 'bea': 'dan', 'cat': 'bob', 'dee': 'abe'},\n",
              "  {'abi': 'dan', 'bea': 'col', 'cat': 'abe', 'dee': 'bob'},\n",
              "  {'abi': 'dan', 'bea': 'col', 'cat': 'bob', 'dee': 'abe'}],\n",
              " array([12, 16, 14,  4, 11,  8,  6,  7,  9, 13]))"
            ]
          },
          "metadata": {},
          "execution_count": 17
        }
      ],
      "source": [
        "lottery = model2.random_path_to_stability(number_of_matchings=100)\n",
        "lottery"
      ]
    }
  ],
  "metadata": {
    "kernelspec": {
      "display_name": "Python 3",
      "language": "python",
      "name": "python3"
    },
    "language_info": {
      "codemirror_mode": {
        "name": "ipython",
        "version": 3
      },
      "file_extension": ".py",
      "mimetype": "text/x-python",
      "name": "python",
      "nbconvert_exporter": "python",
      "pygments_lexer": "ipython3",
      "version": "3.7.7"
    },
    "colab": {
      "provenance": [],
      "include_colab_link": true
    }
  },
  "nbformat": 4,
  "nbformat_minor": 0
}